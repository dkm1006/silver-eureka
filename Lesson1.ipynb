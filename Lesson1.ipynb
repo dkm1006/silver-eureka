{
 "cells": [
  {
   "cell_type": "markdown",
   "metadata": {},
   "source": [
    "# Variables and Types\n",
    "\n",
    "## Assignment\n",
    "In Python you assign a value to a *variable* name with **=** like this. Case is important, i.e. the name Mimi is not the same as mimi"
   ]
  },
  {
   "cell_type": "code",
   "execution_count": 47,
   "metadata": {},
   "outputs": [],
   "source": [
    "x = 5"
   ]
  },
  {
   "cell_type": "markdown",
   "metadata": {},
   "source": [
    "There are several built-in datatypes:\n",
    "\n",
    "## Strings\n",
    "*Strings* are sequences of characters, enclosed by **\" \"** or **' '**. Values can be printed out with the *print* function."
   ]
  },
  {
   "cell_type": "code",
   "execution_count": 48,
   "metadata": {},
   "outputs": [
    {
     "name": "stdout",
     "output_type": "stream",
     "text": [
      "Mimi\n",
      "Nenad\n"
     ]
    }
   ],
   "source": [
    "name = 'Mimi'\n",
    "print(name)\n",
    "other_name = \"Nenad\"\n",
    "print(other_name)"
   ]
  },
  {
   "cell_type": "markdown",
   "metadata": {},
   "source": [
    "## Numbers\n",
    "There are *int*egers like 4 and *float*ing point numbers like 4.1"
   ]
  },
  {
   "cell_type": "code",
   "execution_count": 49,
   "metadata": {},
   "outputs": [
    {
     "name": "stdout",
     "output_type": "stream",
     "text": [
      "28\n",
      "3.2\n"
     ]
    }
   ],
   "source": [
    "integer = 28\n",
    "floating_point = 3.2\n",
    "print(integer)\n",
    "print(floating_point)"
   ]
  },
  {
   "cell_type": "markdown",
   "metadata": {},
   "source": [
    "We can add, subtract, multiply, divide, etc. numbers"
   ]
  },
  {
   "cell_type": "code",
   "execution_count": 50,
   "metadata": {},
   "outputs": [
    {
     "name": "stdout",
     "output_type": "stream",
     "text": [
      "31.2\n",
      "24.8\n",
      "89.60000000000001\n",
      "8.75\n",
      "784\n",
      "8.0\n",
      "1\n"
     ]
    }
   ],
   "source": [
    "print(integer + floating_point)\n",
    "print(integer - floating_point)\n",
    "print(integer * floating_point)\n",
    "print(integer / floating_point)\n",
    "# This is a comment: 2**4 is equivalent to 2*2*2*2\n",
    "print(integer ** 2)\n",
    "# // returns the integer that results from the division\n",
    "print(integer // floating_point)\n",
    "# % returns the remainder of a division\n",
    "print(integer % 3)"
   ]
  },
  {
   "cell_type": "markdown",
   "metadata": {},
   "source": [
    "We can also *compare* values:\n",
    "== *(equal)*, != *(unequal)*, < *(smaller than)*, > *(greater than)*, <= *(smaller or equal)*, >= *(greater or equal)*"
   ]
  },
  {
   "cell_type": "code",
   "execution_count": 52,
   "metadata": {},
   "outputs": [
    {
     "name": "stdout",
     "output_type": "stream",
     "text": [
      "True\n",
      "True\n",
      "False\n",
      "True\n",
      "False\n",
      "True\n"
     ]
    }
   ],
   "source": [
    "print(2**4 == 2*2*2*2)\n",
    "print(2**4 != 5)\n",
    "print(4.1 < 4)\n",
    "print(4.1 > 4)\n",
    "print(4.1 <= 4)\n",
    "print(4.1 >= 4.1)"
   ]
  },
  {
   "cell_type": "markdown",
   "metadata": {},
   "source": [
    "If we compare values that cannot be compared because they are of a different type we may run into a **TypeError**"
   ]
  },
  {
   "cell_type": "code",
   "execution_count": 53,
   "metadata": {},
   "outputs": [
    {
     "name": "stdout",
     "output_type": "stream",
     "text": [
      "False\n"
     ]
    },
    {
     "ename": "TypeError",
     "evalue": "'<' not supported between instances of 'int' and 'str'",
     "output_type": "error",
     "traceback": [
      "\u001b[0;31m---------------------------------------------------------------------------\u001b[0m",
      "\u001b[0;31mTypeError\u001b[0m                                 Traceback (most recent call last)",
      "\u001b[0;32m<ipython-input-53-77425b7bb36a>\u001b[0m in \u001b[0;36m<module>\u001b[0;34m\u001b[0m\n\u001b[1;32m      1\u001b[0m \u001b[0mprint\u001b[0m\u001b[0;34m(\u001b[0m\u001b[0;36m2\u001b[0m \u001b[0;34m==\u001b[0m \u001b[0;34m'a'\u001b[0m\u001b[0;34m)\u001b[0m\u001b[0;34m\u001b[0m\u001b[0m\n\u001b[0;32m----> 2\u001b[0;31m \u001b[0mprint\u001b[0m\u001b[0;34m(\u001b[0m\u001b[0;36m2\u001b[0m \u001b[0;34m<\u001b[0m \u001b[0;34m'a'\u001b[0m\u001b[0;34m)\u001b[0m\u001b[0;34m\u001b[0m\u001b[0m\n\u001b[0m",
      "\u001b[0;31mTypeError\u001b[0m: '<' not supported between instances of 'int' and 'str'"
     ]
    }
   ],
   "source": [
    "print(2 == 'a')\n",
    "print(2 < 'a')"
   ]
  },
  {
   "cell_type": "markdown",
   "metadata": {},
   "source": [
    "## Lists\n",
    "Lists are sequences of objects, enclosed by [ ] and separated by ,"
   ]
  },
  {
   "cell_type": "code",
   "execution_count": 60,
   "metadata": {},
   "outputs": [
    {
     "name": "stdout",
     "output_type": "stream",
     "text": [
      "['Djordje', 28, 3.2]\n"
     ]
    }
   ],
   "source": [
    "list_of_values = ['Djordje', integer, floating_point]\n",
    "print(list_of_values)"
   ]
  },
  {
   "cell_type": "markdown",
   "metadata": {},
   "source": [
    "We can add values to a list by calling the **append** method, which adds the new item to the end of the list, or the **insert** method to place it at an index that we specify. "
   ]
  },
  {
   "cell_type": "code",
   "execution_count": 61,
   "metadata": {},
   "outputs": [
    {
     "name": "stdout",
     "output_type": "stream",
     "text": [
      "['Djordje', 28, 3.2, 'Nenad']\n",
      "['At beginning', 'Djordje', 28, 3.2, 'Nenad']\n"
     ]
    }
   ],
   "source": [
    "list_of_values.append(other_name)\n",
    "print(list_of_values)\n",
    "list_of_values.insert(0, 'At beginning')\n",
    "print(list_of_values)"
   ]
  },
  {
   "cell_type": "markdown",
   "metadata": {},
   "source": [
    "We can retrieve and remove an item by calling **pop**"
   ]
  },
  {
   "cell_type": "code",
   "execution_count": 62,
   "metadata": {},
   "outputs": [
    {
     "name": "stdout",
     "output_type": "stream",
     "text": [
      "Retrieved Nenad from list\n",
      "['At beginning', 'Djordje', 28, 3.2]\n",
      "Retrieved 28 from list\n",
      "['At beginning', 'Djordje', 3.2]\n"
     ]
    }
   ],
   "source": [
    "retrieved_value = list_of_values.pop()\n",
    "print('Retrieved ' + str(retrieved_value) + ' from list')  # The function str converts a value to a String\n",
    "print(list_of_values)\n",
    "retrieved_value = list_of_values.pop(2)\n",
    "print('Retrieved ' + str(retrieved_value) + ' from list')\n",
    "print(list_of_values)"
   ]
  },
  {
   "cell_type": "markdown",
   "metadata": {},
   "source": [
    "## Dictionaries\n",
    "Dictionaries are collections of key: value pairs enclosed by { }"
   ]
  },
  {
   "cell_type": "code",
   "execution_count": 63,
   "metadata": {},
   "outputs": [
    {
     "name": "stdout",
     "output_type": "stream",
     "text": [
      "{'firstname': 'Jasmin', 'lastname': 'Benn-Maksimovic', 'nickname': 'Mimi', 'age': 28}\n"
     ]
    }
   ],
   "source": [
    "mimi = {\n",
    "    'firstname': 'Jasmin',\n",
    "    'lastname': 'Benn',\n",
    "    'nickname': name,\n",
    "    'age': 28\n",
    "}\n",
    "print(person)"
   ]
  },
  {
   "cell_type": "markdown",
   "metadata": {},
   "source": [
    "## Accessing items\n",
    "We can access single items from lists and dictionaries (and other sequences) with **name[index/key]**.\n",
    "Careful, the indices start with 0!"
   ]
  },
  {
   "cell_type": "code",
   "execution_count": 64,
   "metadata": {},
   "outputs": [
    {
     "name": "stdout",
     "output_type": "stream",
     "text": [
      "Benn\n",
      "Djordje\n"
     ]
    }
   ],
   "source": [
    "print(mimi['lastname'])\n",
    "print(list_of_values[1])"
   ]
  },
  {
   "cell_type": "markdown",
   "metadata": {},
   "source": [
    "We can also change the value at a particular index or key in a similar way."
   ]
  },
  {
   "cell_type": "code",
   "execution_count": 65,
   "metadata": {},
   "outputs": [
    {
     "name": "stdout",
     "output_type": "stream",
     "text": [
      "Benn-Maksimović\n",
      "28\n"
     ]
    }
   ],
   "source": [
    "mimi['lastname'] = 'Benn-Maksimović'\n",
    "list_of_values[1] = 28\n",
    "print(mimi['lastname'])\n",
    "print(list_of_values[1])"
   ]
  },
  {
   "cell_type": "markdown",
   "metadata": {},
   "source": [
    "## Loops\n",
    "We can access all items in a list in turn by *looping* through it.\n",
    "\n",
    "### for-loop"
   ]
  },
  {
   "cell_type": "code",
   "execution_count": 66,
   "metadata": {},
   "outputs": [
    {
     "name": "stdout",
     "output_type": "stream",
     "text": [
      "Looping through a list:\n",
      "At beginning\n",
      "28\n",
      "3.2\n",
      "Looping through a dictionary:\n",
      "firstname\n",
      "lastname\n",
      "nickname\n",
      "age\n"
     ]
    }
   ],
   "source": [
    "print('Looping through a list:')\n",
    "for value in list_of_values:\n",
    "    print(value)\n",
    "    \n",
    "print('Looping through a dictionary:')\n",
    "for characteristic in mimi:\n",
    "    print(characteristic)"
   ]
  },
  {
   "cell_type": "markdown",
   "metadata": {},
   "source": [
    "As you can see, we only got the keys of the dictionary, not the values. \n",
    "To access the values we can either use dictionary_name.items() or we simply access the values by the key"
   ]
  },
  {
   "cell_type": "code",
   "execution_count": 67,
   "metadata": {},
   "outputs": [
    {
     "name": "stdout",
     "output_type": "stream",
     "text": [
      "Looping through the items of a dictionary:\n",
      "firstname: Jasmin\n",
      "lastname: Benn-Maksimović\n",
      "nickname: Mimi\n",
      "age: 28\n",
      "Looping again:\n",
      "Jasmin is the value of the key firstname\n",
      "Benn-Maksimović is the value of the key lastname\n",
      "Mimi is the value of the key nickname\n",
      "28 is the value of the key age\n"
     ]
    }
   ],
   "source": [
    "print('Looping through the items of a dictionary:')\n",
    "for key, value in mimi.items():\n",
    "    print(key + ': ' + str(value))\n",
    "\n",
    "print('Looping again:')\n",
    "for key in mimi:\n",
    "    print(str(mimi[key]) + ' is the value of the key ' + key)"
   ]
  },
  {
   "cell_type": "code",
   "execution_count": null,
   "metadata": {},
   "outputs": [],
   "source": []
  }
 ],
 "metadata": {
  "file_extension": ".py",
  "kernelspec": {
   "display_name": "Python 3",
   "language": "python",
   "name": "python3"
  },
  "language_info": {
   "codemirror_mode": {
    "name": "ipython",
    "version": 3
   },
   "file_extension": ".py",
   "mimetype": "text/x-python",
   "name": "python",
   "nbconvert_exporter": "python",
   "pygments_lexer": "ipython3",
   "version": "3.7.0"
  },
  "mimetype": "text/x-python",
  "name": "python",
  "npconvert_exporter": "python",
  "pygments_lexer": "ipython3",
  "version": 3
 },
 "nbformat": 4,
 "nbformat_minor": 2
}
